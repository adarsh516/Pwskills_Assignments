{
 "cells": [
  {
   "cell_type": "markdown",
   "id": "6859584a-4622-426f-9757-54f84ba6e8c9",
   "metadata": {},
   "source": [
    "1.) What is multiprocessing in python? Why is it useful?"
   ]
  },
  {
   "cell_type": "markdown",
   "id": "853f4217-e018-48f9-bb74-598ad5e6dab0",
   "metadata": {},
   "source": [
    "Multiprocessing in Python refers to the ability to execute multiple processes or tasks simultaneously on multiple processors or cores of a computer, as opposed to executing them in a sequential manner.\n",
    "\n",
    "In simpler terms, multiprocessing allows you to take advantage of the multi-core processors in modern computers to perform CPU-intensive tasks more efficiently, by splitting them into smaller sub-tasks that can be executed simultaneously on different processors. This can significantly reduce the time taken to complete the tasks and improve the overall performance of the program.\n",
    "\n",
    "In Python, the multiprocessing module provides a way to create and manage multiple processes. It offers several classes and functions to create and control processes, to communicate and share data between them, and to handle exceptions and errors that may occur during their execution."
   ]
  },
  {
   "cell_type": "markdown",
   "id": "cb86e9ac-9ab0-4d9d-a676-d1c15504a943",
   "metadata": {},
   "source": [
    "2: What are the differences between multiprocessing and multithreading?"
   ]
  },
  {
   "cell_type": "markdown",
   "id": "e4dcf787-153b-4566-9539-5498a981edd4",
   "metadata": {},
   "source": [
    "Multiprocessing runs multiple independent processes concurrently, each with its own memory space and resources, communicating through IPC mechanisms. It's resource-intensive but offers better fault isolation. \n",
    "\n",
    "Multithreading involves running multiple threads within a single process, sharing memory and resources, leading to efficient resource utilization. \n",
    "\n",
    "Communication between threads is simpler but requires careful synchronization to avoid issues like race conditions.\n",
    "\n",
    "Multiprocessing suits tasks requiring high fault tolerance, while multithreading is preferred for resource efficiency and simpler communication within a single process. \n",
    "\n",
    "Both offer concurrency but differ in resource usage, communication overhead, and fault isolation."
   ]
  },
  {
   "cell_type": "markdown",
   "id": "e72da798-02d9-47ea-8f85-ffbec7d8e780",
   "metadata": {},
   "source": [
    "3: Write a python code to create a process using the multiprocessing module."
   ]
  },
  {
   "cell_type": "code",
   "execution_count": 1,
   "id": "1cbefa97-1ba5-4f7c-8404-02478221dc7d",
   "metadata": {},
   "outputs": [
    {
     "name": "stdout",
     "output_type": "stream",
     "text": [
      "Downloaded https://raw.githubusercontent.com/utkarshg1/PWSkills-Assignments/main/Assignment%2013%20-%2014%20February%202023/data1.txt to file1.txt\n",
      "Downloaded https://raw.githubusercontent.com/utkarshg1/PWSkills-Assignments/main/Assignment%2013%20-%2014%20February%202023/data3.txt to file3.txt\n",
      "Downloaded https://raw.githubusercontent.com/utkarshg1/PWSkills-Assignments/main/Assignment%2013%20-%2014%20February%202023/data2.txt to file2.txt\n",
      "All downloads completed\n"
     ]
    }
   ],
   "source": [
    "import multiprocessing\n",
    "import requests\n",
    "\n",
    "def download_file(url, filename):\n",
    "    \"\"\"Download a file from a given URL and save it to disk\"\"\"\n",
    "    response = requests.get(url)\n",
    "    with open(filename, 'wb') as f:\n",
    "        f.write(response.content)\n",
    "    print(f\"Downloaded {url} to {filename}\")\n",
    "\n",
    "if __name__ == '__main__':\n",
    "    # URLs of files to download\n",
    "    urls = [\n",
    "        'https://raw.githubusercontent.com/utkarshg1/PWSkills-Assignments/main/Assignment%2013%20-%2014%20February%202023/data1.txt',\n",
    "        'https://raw.githubusercontent.com/utkarshg1/PWSkills-Assignments/main/Assignment%2013%20-%2014%20February%202023/data2.txt',\n",
    "        'https://raw.githubusercontent.com/utkarshg1/PWSkills-Assignments/main/Assignment%2013%20-%2014%20February%202023/data3.txt'\n",
    "    ]\n",
    "\n",
    "    # Create a new process for each download\n",
    "    processes = []\n",
    "    for i, url in enumerate(urls):\n",
    "        filename = f\"file{i+1}.txt\"\n",
    "        p = multiprocessing.Process(target=download_file, args=(url, filename))\n",
    "        processes.append(p)\n",
    "        p.start()\n",
    "\n",
    "    # Wait for all processes to finish\n",
    "    for p in processes:\n",
    "        p.join()\n",
    "\n",
    "    print(\"All downloads completed\")"
   ]
  },
  {
   "cell_type": "markdown",
   "id": "1af7b592-51cb-4091-acb1-b67dabc1e61d",
   "metadata": {},
   "source": [
    "4: What is a multiprocessing pool in python? Why is it used?"
   ]
  },
  {
   "cell_type": "markdown",
   "id": "86cfdb9b-7f92-4e95-8063-b0d8a4041eb1",
   "metadata": {},
   "source": [
    "In Python, a multiprocessing pool is a class in the multiprocessing module that provides a way to distribute tasks across multiple CPU cores. The idea is to create a pool of worker processes that can execute tasks in parallel, thereby reducing the time it takes to complete a large number of tasks.\n",
    "\n",
    "Here's how it works:\n",
    "\n",
    "1. You create a Pool object with a specified number of worker processes.\n",
    "2. You submit tasks to the pool using the apply(), apply_async(), map(), or map_async() methods.\n",
    "3. The pool distributes the tasks among the worker processes and runs them in parallel.\n",
    "4. The results of each task are collected and returned to the main process.\n",
    "5. The advantage of using a multiprocessing pool is that it allows you to take advantage of multiple CPU cores to perform computations in parallel. This can lead to significant speedups for CPU-bound tasks, such as numerical computations, image processing, or machine learning.\n",
    "\n",
    "The Pool class in Python also provides various methods for controlling the number of worker processes, waiting for tasks to complete, and handling errors. Overall, it's a powerful tool for scaling up your Python programs to take advantage of modern hardware."
   ]
  },
  {
   "cell_type": "markdown",
   "id": "eff8e973-1252-44be-bb42-474feaf76925",
   "metadata": {},
   "source": [
    "5: How can we create a pool of worker processes in python using multiprocessing module?"
   ]
  },
  {
   "cell_type": "code",
   "execution_count": 2,
   "id": "e78ba66b-c2cc-4cb7-8de3-bc6edaed6d5d",
   "metadata": {},
   "outputs": [
    {
     "name": "stdout",
     "output_type": "stream",
     "text": [
      "Gamma(0.5) = 1.7724538509055159\n",
      "Gamma(1) = 1.0\n",
      "Gamma(2) = 1.0\n",
      "Gamma(3) = 2.0\n",
      "Gamma(4) = 6.0\n",
      "Gamma(5) = 24.0\n",
      "Gamma(6) = 120.0\n",
      "Gamma(7) = 720.0\n",
      "Gamma(8) = 5040.0\n",
      "Gamma(9) = 40320.0\n",
      "Gamma(10) = 362880.0\n"
     ]
    }
   ],
   "source": [
    "import multiprocessing\n",
    "import math\n",
    "\n",
    "def calc_gamma(x):\n",
    "    \"\"\"Function to be executed by worker processes\"\"\"\n",
    "    result = math.gamma(x)\n",
    "    return result\n",
    "\n",
    "if __name__ == '__main__':\n",
    "    # Create a list of values for which to calculate the gamma function\n",
    "    values = [0.5, 1, 2, 3, 4, 5, 6, 7, 8, 9, 10]\n",
    "\n",
    "    # Create a pool of worker processes\n",
    "    pool = multiprocessing.Pool(processes=4)\n",
    "\n",
    "    # Map the gamma function calculation function to the values\n",
    "    results = pool.map(calc_gamma, values)\n",
    "\n",
    "    # Close the pool and wait for the worker processes to finish\n",
    "    pool.close()\n",
    "    pool.join()\n",
    "\n",
    "    # Print the results\n",
    "    for i in range(len(values)):\n",
    "        print(f\"Gamma({values[i]}) = {results[i]}\")"
   ]
  },
  {
   "cell_type": "markdown",
   "id": "16c69469-e58e-4a62-a241-53cc1c18be85",
   "metadata": {},
   "source": [
    "6 : Write a python program to create 4 processes, each process should print a different number using the multiprocessing module in python."
   ]
  },
  {
   "cell_type": "code",
   "execution_count": 3,
   "id": "baa83572-b14d-480c-8a0f-40879ad80f38",
   "metadata": {},
   "outputs": [
    {
     "name": "stdout",
     "output_type": "stream",
     "text": [
      "Process number 0, random number generated : 93\n",
      "Process number 1, random number generated : 8\n",
      "Process number 2, random number generated : 45\n",
      "Process number 3, random number generated : 71\n"
     ]
    }
   ],
   "source": [
    "import multiprocessing\n",
    "import random\n",
    "\n",
    "def generate_random_number(num):\n",
    "    \"\"\"\n",
    "    This function generates random numbers between 1 to 100\n",
    "    \"\"\"\n",
    "    random_number = random.randint(1, 100)\n",
    "    print(f\"Process number {num}, random number generated : {random_number}\")\n",
    "\n",
    "if __name__ == '__main__':\n",
    "    # Creating a processess list\n",
    "    processes = []\n",
    "    for i in range(4):\n",
    "        p = multiprocessing.Process(target=generate_random_number, args=(i,))\n",
    "        processes.append(p)\n",
    "        p.start()\n",
    "    \n",
    "    # Waiting for processess to complete\n",
    "    for p in processes:\n",
    "        p.join()"
   ]
  },
  {
   "cell_type": "code",
   "execution_count": null,
   "id": "b97ade26-d6f1-4cc1-8583-e1922fc761be",
   "metadata": {},
   "outputs": [],
   "source": []
  }
 ],
 "metadata": {
  "kernelspec": {
   "display_name": "Python 3 (ipykernel)",
   "language": "python",
   "name": "python3"
  },
  "language_info": {
   "codemirror_mode": {
    "name": "ipython",
    "version": 3
   },
   "file_extension": ".py",
   "mimetype": "text/x-python",
   "name": "python",
   "nbconvert_exporter": "python",
   "pygments_lexer": "ipython3",
   "version": "3.10.8"
  }
 },
 "nbformat": 4,
 "nbformat_minor": 5
}
