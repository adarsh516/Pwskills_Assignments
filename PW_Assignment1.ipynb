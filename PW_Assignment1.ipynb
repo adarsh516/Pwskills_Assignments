{
 "cells": [
  {
   "cell_type": "markdown",
   "id": "172a7db9-7f5f-44e9-9320-dcc6c5296a5a",
   "metadata": {},
   "source": [
    "Q1. Create one variable containing following type of data: (i) string (ii) list (iii) float (iv) tuple"
   ]
  },
  {
   "cell_type": "code",
   "execution_count": 1,
   "id": "61d4e53a-ae22-428b-b600-cf75586be5c0",
   "metadata": {},
   "outputs": [],
   "source": [
    "s = \"Adarsh\"    #String\n",
    "l = [15,22.5,\"PW Skills\",True,6+8j]     #list\n",
    "f = 240.5148     #Float\n",
    "t = (13, 15 ,[19,22,80], \"PWSKILLS\")"
   ]
  },
  {
   "cell_type": "markdown",
   "id": "b0916517-bbac-432e-a0b7-268fb4adc486",
   "metadata": {},
   "source": [
    "Q2. Given are some following variables containing data: (i) var1 = ‘ ‘ (ii) var2 = ‘[ DS , ML , Python]’ (iii) var3 = [ ‘DS’ , ’ML’ , ‘Python’ ] (iv) var4 = 1"
   ]
  },
  {
   "cell_type": "code",
   "execution_count": 3,
   "id": "d61c2059-15e7-4b33-8afc-e9cb8f9c7ac0",
   "metadata": {},
   "outputs": [
    {
     "data": {
      "text/plain": [
       "str"
      ]
     },
     "execution_count": 3,
     "metadata": {},
     "output_type": "execute_result"
    }
   ],
   "source": [
    "var1 = ''     #String\n",
    "type(var1)"
   ]
  },
  {
   "cell_type": "code",
   "execution_count": 4,
   "id": "bb11cae5-c43a-495a-84de-c5fc85bc7983",
   "metadata": {},
   "outputs": [
    {
     "data": {
      "text/plain": [
       "str"
      ]
     },
     "execution_count": 4,
     "metadata": {},
     "output_type": "execute_result"
    }
   ],
   "source": [
    "var2 ='[ DS , ML , Python]'  #String\n",
    "type(var2)"
   ]
  },
  {
   "cell_type": "code",
   "execution_count": 5,
   "id": "c0870078-2204-44fa-8b64-5788cd6b1346",
   "metadata": {},
   "outputs": [
    {
     "data": {
      "text/plain": [
       "list"
      ]
     },
     "execution_count": 5,
     "metadata": {},
     "output_type": "execute_result"
    }
   ],
   "source": [
    "var3 = [ 'DS' , 'ML' , 'Python' ] #List\n",
    "type(var3)"
   ]
  },
  {
   "cell_type": "code",
   "execution_count": 6,
   "id": "43a37c75-5d57-4a83-80c6-43fafe005658",
   "metadata": {},
   "outputs": [
    {
     "data": {
      "text/plain": [
       "float"
      ]
     },
     "execution_count": 6,
     "metadata": {},
     "output_type": "execute_result"
    }
   ],
   "source": [
    "var4 = 1.  #Float\n",
    "type(var4)"
   ]
  },
  {
   "cell_type": "markdown",
   "id": "0de04a08-ef53-4f6f-ab0e-9489c7f59021",
   "metadata": {},
   "source": [
    "Q3. Explain the use of the following operators using an example: (i) / (ii) % (iii) // (iv) **"
   ]
  },
  {
   "cell_type": "code",
   "execution_count": 7,
   "id": "6f28f89b-26ee-47ef-8052-7f26c840abcb",
   "metadata": {},
   "outputs": [
    {
     "data": {
      "text/plain": [
       "1.3333333333333333"
      ]
     },
     "execution_count": 7,
     "metadata": {},
     "output_type": "execute_result"
    }
   ],
   "source": [
    "# '/': It is use to divide two numbers .\n",
    "4/3"
   ]
  },
  {
   "cell_type": "code",
   "execution_count": 8,
   "id": "741f17d2-4131-459e-b38d-8d066932c99b",
   "metadata": {},
   "outputs": [
    {
     "data": {
      "text/plain": [
       "1"
      ]
     },
     "execution_count": 8,
     "metadata": {},
     "output_type": "execute_result"
    }
   ],
   "source": [
    "# '%' : It is used to find the remainder after the division.\n",
    "4%3"
   ]
  },
  {
   "cell_type": "code",
   "execution_count": 9,
   "id": "a123b2d6-5feb-4aa3-bb47-eaf0cdf33d98",
   "metadata": {},
   "outputs": [
    {
     "data": {
      "text/plain": [
       "1"
      ]
     },
     "execution_count": 9,
     "metadata": {},
     "output_type": "execute_result"
    }
   ],
   "source": [
    "# '//': It is used as floor function.\n",
    "4//3"
   ]
  },
  {
   "cell_type": "code",
   "execution_count": 10,
   "id": "2889fece-a3d5-45f6-9439-336ca246fff3",
   "metadata": {},
   "outputs": [
    {
     "data": {
      "text/plain": [
       "64"
      ]
     },
     "execution_count": 10,
     "metadata": {},
     "output_type": "execute_result"
    }
   ],
   "source": [
    "# '**': It is used as the power function.\n",
    "4**3"
   ]
  },
  {
   "cell_type": "markdown",
   "id": "77935814-6c43-47d0-b903-de57f4484cc3",
   "metadata": {},
   "source": [
    "Q4. Create a list of length 10 of your choice containing multiple types of data. Using for loop print the element and its data type."
   ]
  },
  {
   "cell_type": "code",
   "execution_count": 11,
   "id": "61d8d137-fc70-451b-a641-0e2d8a78217a",
   "metadata": {},
   "outputs": [
    {
     "name": "stdout",
     "output_type": "stream",
     "text": [
      "45\n",
      "75.57\n",
      "36\n",
      "58\n",
      "pwskills\n",
      "Adarsh\n",
      "True\n",
      "(4+9j)\n"
     ]
    }
   ],
   "source": [
    "l=[45,75.57,36,58,\"pwskills\",\"Adarsh\",True,4+9j]\n",
    "for i in l:\n",
    "    print(i)"
   ]
  },
  {
   "cell_type": "markdown",
   "id": "ea4a2d91-e3b4-4323-ae77-d4ecdc54b9fc",
   "metadata": {},
   "source": [
    "Q5. Using a while loop, verify if the number A is purely divisible by number B and if so then how many times it can be divisible."
   ]
  },
  {
   "cell_type": "code",
   "execution_count": 12,
   "id": "5678e4a7-86af-42cc-be47-d6b375102ba1",
   "metadata": {},
   "outputs": [
    {
     "name": "stdin",
     "output_type": "stream",
     "text": [
      "Enter the value of A 8\n",
      "Enter the value of B 2\n"
     ]
    },
    {
     "name": "stdout",
     "output_type": "stream",
     "text": [
      "3\n"
     ]
    }
   ],
   "source": [
    "a = int ( input(\"Enter the value of A\"))\n",
    "b = int ( input(\"Enter the value of B\"))\n",
    "c=0\n",
    "while a % b == 0 :\n",
    "    c=c+1\n",
    "    a = a/b\n",
    "print(c)"
   ]
  },
  {
   "cell_type": "markdown",
   "id": "bd270880-f5c0-45a2-a4fb-fc6f2a54d441",
   "metadata": {},
   "source": [
    "Q6. Create a list containing 25 int type data. Using for loop and if-else condition print if the element is\n",
    "divisible by 3 or not."
   ]
  },
  {
   "cell_type": "code",
   "execution_count": 14,
   "id": "e660155a-55c7-4364-91fc-a376a5c730ea",
   "metadata": {},
   "outputs": [],
   "source": [
    "s=list( range(25))"
   ]
  },
  {
   "cell_type": "code",
   "execution_count": 15,
   "id": "c30808e9-bbad-4308-93b5-c6e7ca7495b4",
   "metadata": {},
   "outputs": [
    {
     "name": "stdout",
     "output_type": "stream",
     "text": [
      "0\n",
      "3\n",
      "6\n",
      "9\n",
      "12\n",
      "15\n",
      "18\n",
      "21\n",
      "24\n"
     ]
    }
   ],
   "source": [
    "for i in s:\n",
    "    if s[i]%3==0 :\n",
    "        print( s[i])"
   ]
  },
  {
   "cell_type": "markdown",
   "id": "549deff3-5220-4a8d-ac78-7af8be5d1c72",
   "metadata": {},
   "source": [
    "Q7. What do you understand about mutable and immutable data types? Give examples for both showing\n",
    "this property."
   ]
  },
  {
   "cell_type": "code",
   "execution_count": null,
   "id": "a31ef749-7e4c-49ab-b17b-b2ba76041aca",
   "metadata": {},
   "outputs": [],
   "source": [
    "\"\"\"Mutable data types are those whose values can be changed or new values can be assigned to them.\n",
    "examples : List, Sets, and Dictionary"
   ]
  },
  {
   "cell_type": "code",
   "execution_count": 16,
   "id": "b6498fbe-52e4-4e2c-b3d9-4441937d8ad6",
   "metadata": {},
   "outputs": [],
   "source": [
    "#List\n",
    "l =[2,3,4,5,8,9,\"Adarsh\",True,5+7j]\n",
    "l[3]=\"Adi\""
   ]
  },
  {
   "cell_type": "code",
   "execution_count": 17,
   "id": "d8554c9b-785f-4c49-83f9-d8f503af769b",
   "metadata": {},
   "outputs": [
    {
     "data": {
      "text/plain": [
       "[2, 3, 4, 'Adi', 8, 9, 'Adarsh', True, (5+7j)]"
      ]
     },
     "execution_count": 17,
     "metadata": {},
     "output_type": "execute_result"
    }
   ],
   "source": [
    "l"
   ]
  },
  {
   "cell_type": "code",
   "execution_count": 18,
   "id": "61d5fab5-ca69-42f1-94a8-b2de83f83344",
   "metadata": {},
   "outputs": [],
   "source": [
    "\"\"\"Immutable data types in python are those whose values cannot be changed once initialized.\n",
    "examples : int, float, string, frozen set, tuple, etc."
   ]
  },
  {
   "cell_type": "code",
   "execution_count": 20,
   "id": "92e187ce-f2d1-4502-98d7-f3ca49ca0344",
   "metadata": {},
   "outputs": [
    {
     "ename": "TypeError",
     "evalue": "'str' object does not support item assignment",
     "output_type": "error",
     "traceback": [
      "\u001b[0;31m---------------------------------------------------------------------------\u001b[0m",
      "\u001b[0;31mTypeError\u001b[0m                                 Traceback (most recent call last)",
      "Cell \u001b[0;32mIn[20], line 3\u001b[0m\n\u001b[1;32m      1\u001b[0m \u001b[38;5;66;03m#String\u001b[39;00m\n\u001b[1;32m      2\u001b[0m s\u001b[38;5;241m=\u001b[39m \u001b[38;5;124m\"\u001b[39m\u001b[38;5;124mAdarsh\u001b[39m\u001b[38;5;124m\"\u001b[39m\n\u001b[0;32m----> 3\u001b[0m \u001b[43ms\u001b[49m\u001b[43m[\u001b[49m\u001b[38;5;241;43m3\u001b[39;49m\u001b[43m]\u001b[49m\u001b[38;5;241m=\u001b[39mi\n",
      "\u001b[0;31mTypeError\u001b[0m: 'str' object does not support item assignment"
     ]
    }
   ],
   "source": [
    "#String\n",
    "s= \"Adarsh\"\n",
    "s[3]=i"
   ]
  },
  {
   "cell_type": "code",
   "execution_count": null,
   "id": "28ddfe2d-2b53-4d0d-923b-6f54103dfd5c",
   "metadata": {},
   "outputs": [],
   "source": []
  },
  {
   "cell_type": "code",
   "execution_count": null,
   "id": "2991de19-a885-4b80-8f80-e7cecc4f0895",
   "metadata": {},
   "outputs": [],
   "source": []
  }
 ],
 "metadata": {
  "kernelspec": {
   "display_name": "Python 3 (ipykernel)",
   "language": "python",
   "name": "python3"
  },
  "language_info": {
   "codemirror_mode": {
    "name": "ipython",
    "version": 3
   },
   "file_extension": ".py",
   "mimetype": "text/x-python",
   "name": "python",
   "nbconvert_exporter": "python",
   "pygments_lexer": "ipython3",
   "version": "3.10.8"
  }
 },
 "nbformat": 4,
 "nbformat_minor": 5
}
