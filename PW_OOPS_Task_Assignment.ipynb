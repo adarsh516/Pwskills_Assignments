{
 "cells": [
  {
   "cell_type": "markdown",
   "id": "f0b2cc8c-c54a-4b37-9e40-a21c8b27023e",
   "metadata": {},
   "source": [
    "Q1.Create a vehicle class with an init method having instance variables as name_of_vehicle, max_speed and average_of_vehicle."
   ]
  },
  {
   "cell_type": "code",
   "execution_count": 1,
   "id": "a6dc8033-fa85-43f9-ba94-74586ee774bc",
   "metadata": {},
   "outputs": [
    {
     "name": "stdout",
     "output_type": "stream",
     "text": [
      "Toyota Camry\n",
      "120\n",
      "30\n"
     ]
    }
   ],
   "source": [
    "class Vehicle:\n",
    "    def __init__(self, name_of_vehicle, max_speed, average_of_vehicle):\n",
    "        self.name_of_vehicle = name_of_vehicle\n",
    "        self.max_speed = max_speed\n",
    "        self.average_of_vehicle = average_of_vehicle\n",
    "car = Vehicle(\"Toyota Camry\", 120, 30)\n",
    "print(car.name_of_vehicle)\n",
    "print(car.max_speed)\n",
    "print(car.average_of_vehicle)  "
   ]
  },
  {
   "cell_type": "markdown",
   "id": "b84a35ee-f09e-47ee-9d2b-cc5c5a3931a1",
   "metadata": {},
   "source": [
    "Q2. Create a child class car from the vehicle class created in Que 1, which will inherit the vehicle class. Create a method named seating_capacity which takes capacity as an argument and returns the name of the vehicle and its seating capacity."
   ]
  },
  {
   "cell_type": "code",
   "execution_count": 2,
   "id": "13a6cda2-b3de-44e4-b947-9baf06306040",
   "metadata": {},
   "outputs": [
    {
     "name": "stdout",
     "output_type": "stream",
     "text": [
      "Toyota Camry has a seating capacity of 5 people.\n"
     ]
    }
   ],
   "source": [
    "class Vehicle:\n",
    "    def __init__(self, name_of_vehicle, max_speed, average_of_vehicle):\n",
    "        self.name_of_vehicle = name_of_vehicle\n",
    "        self.max_speed = max_speed\n",
    "        self.average_of_vehicle = average_of_vehicle\n",
    "\n",
    "class Car(Vehicle):\n",
    "    def __init__(self, name_of_vehicle, max_speed, average_of_vehicle):\n",
    "        super().__init__(name_of_vehicle, max_speed, average_of_vehicle)\n",
    "\n",
    "    def seating_capacity(self, capacity):\n",
    "        return f\"{self.name_of_vehicle} has a seating capacity of {capacity} people.\"\n",
    "\n",
    "# Example usage:\n",
    "car = Car(\"Toyota Camry\", 180, 30)\n",
    "print(car.seating_capacity(5))  # Output: Toyota Camry has a seating capacity of 5 people.\n"
   ]
  },
  {
   "cell_type": "markdown",
   "id": "b5beeea9-7cbd-4a46-81ef-31778b544b2e",
   "metadata": {},
   "source": [
    "Q3. What is multiple inheritance? Write a python code to demonstrate multiple inheritance."
   ]
  },
  {
   "cell_type": "raw",
   "id": "df22aede-ca15-42fa-a3f0-d2c4e22c3a4b",
   "metadata": {},
   "source": [
    "Ans.Multiple inheritance is a feature in object-oriented programming where a class can inherit attributes and methods from more than one parent class. This means a subclass can inherit from multiple base classes."
   ]
  },
  {
   "cell_type": "code",
   "execution_count": 3,
   "id": "c68fcc35-c0c4-468d-ad04-ad5e0533515a",
   "metadata": {},
   "outputs": [
    {
     "name": "stdout",
     "output_type": "stream",
     "text": [
      "Squeak!\n",
      "Flying...\n",
      "Running...\n"
     ]
    }
   ],
   "source": [
    "class Animal:\n",
    "    def make_sound(self):\n",
    "        pass\n",
    "\n",
    "class Bird(Animal):\n",
    "    def fly(self):\n",
    "        print(\"Flying...\")\n",
    "\n",
    "class Mammal(Animal):\n",
    "    def run(self):\n",
    "        print(\"Running...\")\n",
    "\n",
    "class Bat(Mammal, Bird):\n",
    "    def make_sound(self):\n",
    "        print(\"Squeak!\")\n",
    "\n",
    "# Creating an instance of Bat\n",
    "bat = Bat()\n",
    "\n",
    "# Calling methods from both parent classes\n",
    "bat.make_sound()\n",
    "bat.fly()\n",
    "bat.run()\n"
   ]
  },
  {
   "cell_type": "markdown",
   "id": "8dcfaac3-a1ab-459d-ada0-9acb16c4ff91",
   "metadata": {},
   "source": [
    "Q4. What are getter and setter in python? Create a class and create a getter and a setter method in this class."
   ]
  },
  {
   "cell_type": "raw",
   "id": "158c6797-a18e-401d-9766-8e3631e3b1f7",
   "metadata": {},
   "source": [
    "In Python, getters and setters are methods used to access and modify the attributes of a class, respectively. They provide a way to encapsulate the access to class attributes, allowing for controlled access and modification."
   ]
  },
  {
   "cell_type": "code",
   "execution_count": 4,
   "id": "a68740e4-9860-4774-9cb3-653049430d21",
   "metadata": {},
   "outputs": [
    {
     "name": "stdout",
     "output_type": "stream",
     "text": [
      "Name: John\n",
      "Age: 20\n",
      "Modified Name: Alice\n",
      "Modified Age: 25\n"
     ]
    }
   ],
   "source": [
    "class Student:\n",
    "    def __init__(self, name, age):\n",
    "        self._name = name\n",
    "        self._age = age\n",
    "\n",
    "    # Getter method for name attribute\n",
    "    def get_name(self):\n",
    "        return self._name\n",
    "\n",
    "    # Setter method for name attribute\n",
    "    def set_name(self, name):\n",
    "        self._name = name\n",
    "\n",
    "    # Getter method for age attribute\n",
    "    def get_age(self):\n",
    "        return self._age\n",
    "\n",
    "    # Setter method for age attribute\n",
    "    def set_age(self, age):\n",
    "        if age >= 0:\n",
    "            self._age = age\n",
    "        else:\n",
    "            print(\"Age cannot be negative.\")\n",
    "\n",
    "# Creating an instance of Student class\n",
    "student1 = Student(\"John\", 20)\n",
    "\n",
    "# Using getter method to access attributes\n",
    "print(\"Name:\", student1.get_name())  # Output: Name: John\n",
    "print(\"Age:\", student1.get_age())    # Output: Age: 20\n",
    "\n",
    "# Using setter method to modify attributes\n",
    "student1.set_name(\"Alice\")\n",
    "student1.set_age(25)\n",
    "\n",
    "# Accessing modified attributes\n",
    "print(\"Modified Name:\", student1.get_name())  # Output: Modified Name: Alice\n",
    "print(\"Modified Age:\", student1.get_age())    # Output: Modified Age: 25\n"
   ]
  },
  {
   "cell_type": "code",
   "execution_count": null,
   "id": "1618651a-e56f-4b67-b1a0-9c9ffa0deae6",
   "metadata": {},
   "outputs": [],
   "source": []
  }
 ],
 "metadata": {
  "kernelspec": {
   "display_name": "Python 3 (ipykernel)",
   "language": "python",
   "name": "python3"
  },
  "language_info": {
   "codemirror_mode": {
    "name": "ipython",
    "version": 3
   },
   "file_extension": ".py",
   "mimetype": "text/x-python",
   "name": "python",
   "nbconvert_exporter": "python",
   "pygments_lexer": "ipython3",
   "version": "3.10.8"
  }
 },
 "nbformat": 4,
 "nbformat_minor": 5
}
