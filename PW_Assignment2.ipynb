{
 "cells": [
  {
   "cell_type": "markdown",
   "id": "cc82a689-b12a-4983-b100-972294c8b52c",
   "metadata": {},
   "source": [
    "Q1. How do you comment code in Python? What are the different types of comments?"
   ]
  },
  {
   "cell_type": "code",
   "execution_count": 1,
   "id": "dd431a9a-f27e-445b-8207-6a578d372095",
   "metadata": {},
   "outputs": [],
   "source": [
    "\"\"\"In Python, you can comment code by using the hash character (#) followed by your comment. \n",
    "Python will ignore any text in the code that follows the # character on the same line. Here's an example:"
   ]
  },
  {
   "cell_type": "code",
   "execution_count": 2,
   "id": "bdb9327c-5b66-4130-ad36-24250defac30",
   "metadata": {},
   "outputs": [
    {
     "name": "stdout",
     "output_type": "stream",
     "text": [
      "Adarsh\n"
     ]
    }
   ],
   "source": [
    "# This is a comment in Python\n",
    "print(\"Adarsh\")  # This is an inline comment"
   ]
  },
  {
   "cell_type": "code",
   "execution_count": 3,
   "id": "60a934c2-9639-497a-9767-aca4ae650c39",
   "metadata": {},
   "outputs": [],
   "source": [
    "\"\"\"Python also supports docstrings, which are used to document functions, classes, and modules.\n",
    "Docstrings are enclosed in triple quotes (\"\"\"\") and should be placed at the beginning of the function, class, or module. Here's an example:"
   ]
  },
  {
   "cell_type": "code",
   "execution_count": 4,
   "id": "68e1545a-f022-4c3e-ad31-7185a07ed633",
   "metadata": {},
   "outputs": [],
   "source": [
    "def add_numbers(a, b):\n",
    "    \"\"\"\n",
    "    This function adds two numbers and returns the result.\n",
    "\n",
    "    :param a: The first number to add.\n",
    "    :param b: The second number to add.\n",
    "    :return: The sum of a and b.\n",
    "    \"\"\"\n",
    "    return a + b"
   ]
  },
  {
   "cell_type": "markdown",
   "id": "7c2726b7-8324-40e3-bddf-3b1ba9d662b0",
   "metadata": {},
   "source": [
    "Q2. What are variables in Python? How do you declare and assign values to variables?"
   ]
  },
  {
   "cell_type": "code",
   "execution_count": 5,
   "id": "1f127ffe-90b6-4980-a377-3cad9fed43bf",
   "metadata": {},
   "outputs": [],
   "source": [
    "\"\"\"In Python, a variable is a name that represents a value. Variables are used to store data in memory.\n",
    "To declare and assign a value to a variable in Python, you can use the assignment operator (=). Here's an example:"
   ]
  },
  {
   "cell_type": "code",
   "execution_count": 6,
   "id": "665f7acf-f7ac-40b5-abd1-0ada425ec9f0",
   "metadata": {},
   "outputs": [],
   "source": [
    "# Declare and assign a value to a variable\n",
    "x = 9\n",
    "\n",
    "# Declare and assign a value to a variable using a different variable\n",
    "y = x\n",
    "\n",
    "# Declare and assign a value to a variable using an expression\n",
    "z = x + y"
   ]
  },
  {
   "cell_type": "code",
   "execution_count": 7,
   "id": "c347fc0a-0208-49c6-9e8f-ab466bd0a15d",
   "metadata": {},
   "outputs": [],
   "source": [
    "#You can also declare and assign multiple variables at once using a tuple or a dictionary. Here's an example:"
   ]
  },
  {
   "cell_type": "code",
   "execution_count": 8,
   "id": "d7e68db6-a614-4b19-a172-f1cd00d08fd2",
   "metadata": {},
   "outputs": [],
   "source": [
    "# Declare and assign multiple variables at once using a tuple\n",
    "a, b, c = 1, 2, 3\n",
    "\n",
    "# Declare and assign multiple variables at once using a dictionary\n",
    "d = {'x': 1, 'y': 2, 'z': 3}"
   ]
  },
  {
   "cell_type": "markdown",
   "id": "bc5ee857-4dfd-4c32-bc25-02f0183f270b",
   "metadata": {},
   "source": [
    "Q3. How do you convert one data type to another in Python?"
   ]
  },
  {
   "cell_type": "code",
   "execution_count": 9,
   "id": "82a4f69b-4673-4b62-b402-66896391a245",
   "metadata": {},
   "outputs": [],
   "source": [
    "#In Python, you can convert one data type to another using built-in functions. Here are some common data type conversions:"
   ]
  },
  {
   "cell_type": "code",
   "execution_count": 1,
   "id": "2fa70f33-f55a-484c-94b0-ff28c69942dd",
   "metadata": {},
   "outputs": [
    {
     "name": "stdout",
     "output_type": "stream",
     "text": [
      "3\n",
      "123\n",
      "3.0\n",
      "123.45\n"
     ]
    }
   ],
   "source": [
    "# Convert a float to an integer\n",
    "num_float = 3.14\n",
    "num_int = int(num_float)\n",
    "print(num_int)  # Output: 3\n",
    "\n",
    "# Convert a string to an integer\n",
    "str_num = \"123\"\n",
    "num_int = int(str_num)\n",
    "print(num_int)  # Output: 123\n",
    "\n",
    "# Convert an integer to a float\n",
    "num_int = 3\n",
    "num_float = float(num_int)\n",
    "print(num_float)  # Output: 3.0\n",
    "\n",
    "# Convert a string to a float\n",
    "str_num = \"123.45\"\n",
    "num_float = float(str_num)\n",
    "print(num_float)  # Output: 123.45"
   ]
  },
  {
   "cell_type": "markdown",
   "id": "eb1874c7-cad8-4bd6-a87d-3f18e6c5dca9",
   "metadata": {},
   "source": [
    "Q4. How do you write and execute a Python script from the command line?"
   ]
  },
  {
   "cell_type": "code",
   "execution_count": 9,
   "id": "5b520e94-addc-4dd7-afc6-4c53ad0d2976",
   "metadata": {},
   "outputs": [],
   "source": [
    "\"\"\"Running Python Scripts with Command Line Arguments\n",
    "You can make use of the sys module to read command line arguments passed to the Python program. \n",
    "The sys.argv list contains the command line arguments, where the first item/element in that list can be accessed as sys.argv[1] and \n",
    "the first argument, i.e., sys.argv[0] is always the name of the program as it was invoked.\n",
    "\n",
    "Here's an example of a Python script that takes a command line argument:"
   ]
  },
  {
   "cell_type": "code",
   "execution_count": null,
   "id": "acde02c4-b30b-41a6-ad7b-e4b08f6763d0",
   "metadata": {},
   "outputs": [],
   "source": [
    "import sys\n",
    "\n",
    "num = sys.argv[1]\n",
    "for i in range(int(num)):\n",
    "    print(i)"
   ]
  },
  {
   "cell_type": "markdown",
   "id": "9e98e1ef-3dbf-4f81-83c8-67f117e1f9c6",
   "metadata": {},
   "source": [
    "Q5. Given a list my_list = [1, 2, 3, 4, 5], write the code to slice the list and obtain the sub-list [2, 3]."
   ]
  },
  {
   "cell_type": "code",
   "execution_count": 14,
   "id": "0397f528-81a2-4059-aba8-dadc09cd5543",
   "metadata": {},
   "outputs": [
    {
     "name": "stdout",
     "output_type": "stream",
     "text": [
      "[2, 3]\n"
     ]
    }
   ],
   "source": [
    "my_list = [1, 2, 3, 4, 5]\n",
    "sub_list = my_list[1:3]\n",
    "print(sub_list)  # Output: [2, 3]"
   ]
  },
  {
   "cell_type": "markdown",
   "id": "545845bf-4e08-4c3b-b988-8c9d5d2021b3",
   "metadata": {},
   "source": [
    "Q6. What is a complex number in mathematics, and how is it represented in Python?"
   ]
  },
  {
   "cell_type": "code",
   "execution_count": 7,
   "id": "3db53360-bf50-45c2-a779-2430381588a3",
   "metadata": {},
   "outputs": [],
   "source": [
    "\"\"\"A complex number in mathematics is a number that can be expressed in the form a + bi, where a and b are real numbers, and i is the square root of\n",
    "-1.Complex numbers can be represented in Python using the built-in complex data type. Here's an example"
   ]
  },
  {
   "cell_type": "code",
   "execution_count": 15,
   "id": "c557e60c-c1a7-46fe-87bb-70d5342d2383",
   "metadata": {},
   "outputs": [
    {
     "name": "stdout",
     "output_type": "stream",
     "text": [
      "(3+4j)\n",
      "Real part: 3.0\n",
      "Imaginary part: 4.0\n"
     ]
    }
   ],
   "source": [
    "# Creating a complex number in Python\n",
    "z = 3 + 4j\n",
    "\n",
    "# Printing the complex number\n",
    "print(z)\n",
    "\n",
    "# Getting the real and imaginary parts\n",
    "real = z.real\n",
    "imag = z.imag\n",
    "\n",
    "# Printing the real and imaginary parts\n",
    "print(\"Real part:\", real)\n",
    "print(\"Imaginary part:\", imag)"
   ]
  },
  {
   "cell_type": "markdown",
   "id": "2f2f9c49-cd85-4b81-acc3-6f2f4a0b3a6b",
   "metadata": {},
   "source": [
    "Q7. What is the correct way to declare a variable named age and assign the value 25 to it?"
   ]
  },
  {
   "cell_type": "code",
   "execution_count": 16,
   "id": "d808d48f-8719-493e-93d2-1284660e7cfe",
   "metadata": {},
   "outputs": [],
   "source": [
    "\"\"\"In Python, you can declare a variable and assign a value to it using the assignment operator (=).\n",
    "To declare a variable named age and assign the value 25 to it, you can use the following code:"
   ]
  },
  {
   "cell_type": "code",
   "execution_count": 17,
   "id": "860b7c6a-9c2b-4653-90ce-10d30f38a5a6",
   "metadata": {},
   "outputs": [],
   "source": [
    "age = 25"
   ]
  },
  {
   "cell_type": "markdown",
   "id": "bb474093-03ea-45b6-afc6-49de9d061c0f",
   "metadata": {},
   "source": [
    "Q8. Declare a variable named price and assign the value 9.99 to it. What data type does this variable\n",
    "belong to?"
   ]
  },
  {
   "cell_type": "code",
   "execution_count": null,
   "id": "7fe3daa1-da3c-42ee-a5c3-454a28e2e31e",
   "metadata": {},
   "outputs": [],
   "source": [
    "#To declare a variable named \"price\" and assign the value 9.99 to it, and determine its data type in Python, you can use the following code:"
   ]
  },
  {
   "cell_type": "code",
   "execution_count": 18,
   "id": "8e69f041-c1d2-4999-aaf2-5861c0b0ea73",
   "metadata": {},
   "outputs": [
    {
     "name": "stdout",
     "output_type": "stream",
     "text": [
      "<class 'float'>\n"
     ]
    }
   ],
   "source": [
    "price = 9.99\n",
    "print(type(price))"
   ]
  },
  {
   "cell_type": "markdown",
   "id": "74a49182-daf7-4d10-ae87-d0ee19bf3d61",
   "metadata": {},
   "source": [
    "Q9. Create a variable named name and assign your full name to it as a string. How would you print the\n",
    "value of this variable?"
   ]
  },
  {
   "cell_type": "code",
   "execution_count": 19,
   "id": "19204408-1f38-4941-bfde-eb0ca33dc0a8",
   "metadata": {},
   "outputs": [],
   "source": [
    "#To create a variable named \"name\" and assign your full name to it as a string, you can use the following code in Python:"
   ]
  },
  {
   "cell_type": "code",
   "execution_count": 20,
   "id": "5805dab0-1d2f-4a9d-b7ca-59867114e1c5",
   "metadata": {},
   "outputs": [
    {
     "name": "stdout",
     "output_type": "stream",
     "text": [
      "Adarsh Mohanty\n"
     ]
    }
   ],
   "source": [
    "name = \"Adarsh Mohanty\"\n",
    "print(name)"
   ]
  },
  {
   "cell_type": "markdown",
   "id": "8a7169af-3b1b-4ee6-9fad-e002233d933e",
   "metadata": {},
   "source": [
    "Q10. Given the string \"Hello, World!\", extract the substring \"World\"."
   ]
  },
  {
   "cell_type": "code",
   "execution_count": 21,
   "id": "d380f16a-83dc-4929-9374-bce2bbd02ab0",
   "metadata": {},
   "outputs": [
    {
     "name": "stdout",
     "output_type": "stream",
     "text": [
      "World\n"
     ]
    }
   ],
   "source": [
    "s = \"Hello, World!\"\n",
    "substring = s[7:12]\n",
    "print(substring)"
   ]
  },
  {
   "cell_type": "markdown",
   "id": "15ceae9c-5c4c-4648-a838-c505195b9d47",
   "metadata": {},
   "source": [
    "Q11. Create a variable named \"is_student\" and assign it a boolean value indicating whether you are\n",
    "currently a student or not."
   ]
  },
  {
   "cell_type": "code",
   "execution_count": 22,
   "id": "2c2ad842-1e14-4bf0-b5a7-d8de2a46b560",
   "metadata": {},
   "outputs": [],
   "source": [
    "is_student = True  # or False, depending on your current student status"
   ]
  },
  {
   "cell_type": "code",
   "execution_count": 23,
   "id": "6caeaeac-4d76-4da9-8db0-171174245b02",
   "metadata": {},
   "outputs": [
    {
     "data": {
      "text/plain": [
       "True"
      ]
     },
     "execution_count": 23,
     "metadata": {},
     "output_type": "execute_result"
    }
   ],
   "source": [
    "is_student"
   ]
  }
 ],
 "metadata": {
  "kernelspec": {
   "display_name": "Python 3 (ipykernel)",
   "language": "python",
   "name": "python3"
  },
  "language_info": {
   "codemirror_mode": {
    "name": "ipython",
    "version": 3
   },
   "file_extension": ".py",
   "mimetype": "text/x-python",
   "name": "python",
   "nbconvert_exporter": "python",
   "pygments_lexer": "ipython3",
   "version": "3.10.8"
  }
 },
 "nbformat": 4,
 "nbformat_minor": 5
}
