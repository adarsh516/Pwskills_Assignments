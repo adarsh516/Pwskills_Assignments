{
 "cells": [
  {
   "cell_type": "markdown",
   "id": "8f46e88a-abc0-4a1a-991c-dab4ada04907",
   "metadata": {},
   "source": [
    "Q1. Explain Class and Object with respect to Object-Oriented Programming. Give a suitable example."
   ]
  },
  {
   "cell_type": "raw",
   "id": "627be6f1-4244-4235-b663-9fade4264417",
   "metadata": {},
   "source": [
    "Object − Objects have states and behaviors. Example: A dog has states - color, name, breed as well as behaviors – wagging the tail, barking, eating. An object is an instance of a class.\n",
    "\n",
    "Class − A class can be defined as a template/blueprint that describes the behavior/state that the object of its type support. creating class"
   ]
  },
  {
   "cell_type": "code",
   "execution_count": 1,
   "id": "4d2a87a3-6bc7-4652-a34d-d8a95e5cfb07",
   "metadata": {},
   "outputs": [],
   "source": [
    "class Dog:\n",
    "    def __init__(self, breed, age, colour):\n",
    "        self.breed = breed\n",
    "        self.age = age\n",
    "        self.colour = colour\n",
    "\n",
    "    def details(self):\n",
    "        print(f\"dog breed is {self.breed},his age is {self.age} and his colour is {self.colour}.\")"
   ]
  },
  {
   "cell_type": "code",
   "execution_count": 3,
   "id": "b73648df-9d63-448d-913c-343772450b11",
   "metadata": {},
   "outputs": [
    {
     "name": "stdout",
     "output_type": "stream",
     "text": [
      "black\n",
      "Labrador\n",
      "12\n",
      "dog breed is Labrador,his age is 12 and his colour is black.\n"
     ]
    }
   ],
   "source": [
    "dog = Dog(\"Labrador\", 12, \"black\")\n",
    "print(dog.colour)\n",
    "print(dog.breed)\n",
    "print(dog.age)\n",
    "dog.details()"
   ]
  },
  {
   "cell_type": "markdown",
   "id": "1b2e8fa0-2a02-487b-aac4-aad56e2190c3",
   "metadata": {},
   "source": [
    "Q2. Name the four pillars of OOPs."
   ]
  },
  {
   "cell_type": "raw",
   "id": "26bf7f89-bb54-4125-a9b7-fe01402dbd5d",
   "metadata": {},
   "source": [
    "1.Encapsulation\n",
    "2.Inheritance\n",
    "3.Abstraction\n",
    "4.Polymorhism"
   ]
  },
  {
   "cell_type": "markdown",
   "id": "5820dfa0-998c-44c6-82d8-4011333e6e80",
   "metadata": {},
   "source": [
    "Q3.Explain why the init() function is used. Give a suitable example."
   ]
  },
  {
   "cell_type": "raw",
   "id": "1e1f0d2b-1743-4942-a46e-1a27450adebd",
   "metadata": {},
   "source": [
    "A constructor is a special method that the program calls upon an object’s creation. The constructor is used in the class to initialize data members\n",
    "to the object. With our dog class example, you can use a constructor to assign dog characteristics to each Fox Terrier object. The special method __init__ is the Python constructor. With an understanding of object-oriented programming and classes, let’s now look at how the __init__ method works within a Python program"
   ]
  },
  {
   "cell_type": "code",
   "execution_count": 9,
   "id": "c6f3f12f-a4d2-413c-b85f-95f164dac0a0",
   "metadata": {},
   "outputs": [],
   "source": [
    "class pwskills:\n",
    "    def __init__(self,name,email):\n",
    "        self.name=name\n",
    "        self.email=email\n",
    "    def student_details(self):\n",
    "        print(self.name,self.email)\n"
   ]
  },
  {
   "cell_type": "code",
   "execution_count": 10,
   "id": "309c385f-8827-463e-ab17-e3446c7bd35d",
   "metadata": {},
   "outputs": [],
   "source": [
    "st=pwskills(\"Adi\",\"Adi@gmail.com\")"
   ]
  },
  {
   "cell_type": "code",
   "execution_count": 11,
   "id": "eb1e52a6-249f-4d94-8905-92e812430cc1",
   "metadata": {},
   "outputs": [
    {
     "name": "stdout",
     "output_type": "stream",
     "text": [
      "Adi Adi@gmail.com\n"
     ]
    }
   ],
   "source": [
    "st.student_details()"
   ]
  },
  {
   "cell_type": "markdown",
   "id": "cf03eac0-e768-42d1-a19b-4dc8366d97b0",
   "metadata": {},
   "source": [
    "Q4.Why self is used in OOPs?"
   ]
  },
  {
   "cell_type": "raw",
   "id": "5d828620-d3f0-4e6b-ad21-e6bb65289d33",
   "metadata": {},
   "source": [
    "The self variable is used to represent the instance of the class which is often used in object-oriented programming. It works as a reference to the object. Python uses the self parameter to refer to instance attributes and methods of the class."
   ]
  },
  {
   "cell_type": "markdown",
   "id": "e8b4a4bd-ac14-42bf-b94b-ca960edd1605",
   "metadata": {},
   "source": [
    "Q5. What is inheritance? Give an example for each type of inheritance."
   ]
  },
  {
   "cell_type": "raw",
   "id": "dec49cc5-1a22-485d-bd93-dd4551303de5",
   "metadata": {},
   "source": [
    "Inheritance is a process of obtaining properties and characteristics(variables and methods) of another class. In this hierarchical order, the class which inherits another class is called subclass or child class, and the other class is the parent class."
   ]
  },
  {
   "cell_type": "code",
   "execution_count": 14,
   "id": "1442bc8f-af57-4686-9d20-e2f4c8e062f0",
   "metadata": {},
   "outputs": [
    {
     "name": "stdout",
     "output_type": "stream",
     "text": [
      "Single Inheritance\n",
      "parent class function\n",
      "child class function\n",
      "Multilevel Inheritance\n",
      "father : G\n",
      "mother : G\n",
      "Multiple Inheritance\n",
      "Gautam marks = 255/500\n",
      "Adarsh marks = 214/500\n"
     ]
    }
   ],
   "source": [
    "print(\"Single Inheritance\")\n",
    "\n",
    "\n",
    "class parent:\n",
    "    def f1(self):\n",
    "        print(\"parent class function\")\n",
    "\n",
    "\n",
    "class child(parent):\n",
    "    def f2(self):\n",
    "        print(\"child class function\")\n",
    "\n",
    "\n",
    "obj = child()\n",
    "obj.f1()\n",
    "obj.f2()\n",
    "\n",
    "print(\"Multilevel Inheritance\")\n",
    "\n",
    "\n",
    "class mother:\n",
    "    mothername = 'G'\n",
    "\n",
    "    def mother(self):\n",
    "        print(self.mothername)\n",
    "\n",
    "\n",
    "class father(mother):\n",
    "    fathername = \"G\"\n",
    "\n",
    "    def father(self):\n",
    "        print(self.fathername)\n",
    "\n",
    "\n",
    "class son(father):\n",
    "    def parent(self):\n",
    "        print(\"father :\", self.fathername)\n",
    "        print(\"mother :\", self.mothername)\n",
    "\n",
    "\n",
    "obj2 = son()\n",
    "obj2.parent()\n",
    "\n",
    "print(\"Multiple Inheritance\")\n",
    "\n",
    "\n",
    "class Gautam:\n",
    "    def Gautam(self):\n",
    "        return print(\"Gautam marks = 255/500\")\n",
    "\n",
    "\n",
    "class Adarsh:\n",
    "    def Adarsh(self):\n",
    "        return print(\"Adarsh marks = 214/500\")\n",
    "\n",
    "\n",
    "class stu_marks(Gautam, Adarsh):\n",
    "    pass\n",
    "\n",
    "\n",
    "Gautam = stu_marks()\n",
    "Gautam.Gautam()\n",
    "Adarsh = stu_marks()\n",
    "Adarsh.Adarsh()"
   ]
  }
 ],
 "metadata": {
  "kernelspec": {
   "display_name": "Python 3 (ipykernel)",
   "language": "python",
   "name": "python3"
  },
  "language_info": {
   "codemirror_mode": {
    "name": "ipython",
    "version": 3
   },
   "file_extension": ".py",
   "mimetype": "text/x-python",
   "name": "python",
   "nbconvert_exporter": "python",
   "pygments_lexer": "ipython3",
   "version": "3.10.8"
  }
 },
 "nbformat": 4,
 "nbformat_minor": 5
}
